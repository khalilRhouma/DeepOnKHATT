{
 "cells": [
  {
   "cell_type": "markdown",
   "metadata": {},
   "source": [
    "# Create point data from inkml for online Khatt dataset"
   ]
  },
  {
   "cell_type": "code",
   "execution_count": 4,
   "metadata": {},
   "outputs": [],
   "source": [
    "from xml.etree import ElementTree as ET\n",
    "import os\n",
    "from tqdm import tqdm"
   ]
  },
  {
   "cell_type": "code",
   "execution_count": null,
   "metadata": {},
   "outputs": [],
   "source": [
    "data = []\n",
    "for trace in root.findall(\"trace\"):\n",
    "    text = trace.text\n",
    "    # get x,y coordinates and add 0 (pen down as default)\n",
    "    coor = [p.split()[:2] for p in text.split(',')]\n",
    "    coor = [[x,y,\"0\"] for x,y in coor]\n",
    "    data.append(coor)"
   ]
  },
  {
   "cell_type": "code",
   "execution_count": 78,
   "metadata": {},
   "outputs": [],
   "source": [
    "for trace in data[1:]:\n",
    "    trace[0][2] = \"1\""
   ]
  },
  {
   "cell_type": "code",
   "execution_count": 84,
   "metadata": {},
   "outputs": [],
   "source": [
    "text_path = data_path + text_file\n",
    "with open(text_path,\"w\") as t:\n",
    "    for trace in data:\n",
    "        for p in trace:\n",
    "            t.write(\" \".join(p)+'\\n')"
   ]
  },
  {
   "cell_type": "code",
   "execution_count": null,
   "metadata": {},
   "outputs": [],
   "source": [
    "train_data_path = \"OnlineKHATTData/Training/\"\n",
    "val_data_path = \"OnlineKHATTData/Validation/\"\n",
    "for file in tqdm(os.listdir(val_data_path)):\n",
    "    if file.endswith('.inkml'):\n",
    "        filename = file.split('.')[0]\n",
    "        inkml = file\n",
    "        text_file = filename + \"_coor.txt\"\n",
    "        # Parse inkml file\n",
    "        inkml_path = os.path.join(val_data_path,inkml)\n",
    "        tree = ET.parse(inkml_path)\n",
    "        root = tree.getroot()\n",
    "        # extract coordinate\n",
    "        data = []\n",
    "        for trace in root.findall(\"trace\"):\n",
    "            text = trace.text\n",
    "            # get x,y coordinates and add 0 (pen down as default)\n",
    "            coor = [p.split()[:2] for p in text.split(',')]\n",
    "            coor = [[x,y,\"0\"] for x,y in coor]\n",
    "            data.append(coor)\n",
    "            # Add pen up indicator\n",
    "            for trace in data[1:]:\n",
    "                trace[0][2] = \"1\"\n",
    "            # create text file with coordinate & pen indicator\n",
    "            text_path = val_data_path + text_file\n",
    "            with open(text_path,\"w\") as t:\n",
    "                for trace in data:\n",
    "                    for p in trace:\n",
    "                        t.write(\" \".join(p)+'\\n')"
   ]
  },
  {
   "cell_type": "code",
   "execution_count": 1,
   "metadata": {},
   "outputs": [],
   "source": [
    "from random import shuffle\n",
    "from pathlib import Path"
   ]
  }
 ],
 "metadata": {
  "interpreter": {
   "hash": "da81d1f547c2b9bcaba1322708217f7f1724358285b2f117b9216fc22b29a70b"
  },
  "kernelspec": {
   "display_name": "Python 3.7.12 ('khatt_1')",
   "language": "python",
   "name": "python3"
  },
  "language_info": {
   "codemirror_mode": {
    "name": "ipython",
    "version": 3
   },
   "file_extension": ".py",
   "mimetype": "text/x-python",
   "name": "python",
   "nbconvert_exporter": "python",
   "pygments_lexer": "ipython3",
   "version": "3.7.12"
  },
  "orig_nbformat": 4
 },
 "nbformat": 4,
 "nbformat_minor": 2
}

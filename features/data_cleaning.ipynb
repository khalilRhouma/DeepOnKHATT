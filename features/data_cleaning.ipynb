{
 "cells": [
  {
   "cell_type": "code",
   "execution_count": null,
   "metadata": {},
   "outputs": [],
   "source": [
    "import num2words\n",
    "from lang_trans.arabic import buckwalter"
   ]
  },
  {
   "cell_type": "code",
   "execution_count": null,
   "metadata": {},
   "outputs": [],
   "source": [
    "def convert_numb_to_words(list_line, count):\n",
    "    # Convert Numbers to backwalter words\n",
    "    for word in list_line[:-1]:\n",
    "        number = \"\".join(filter(lambda i: i.isdigit(), word))\n",
    "        if len(number) > 0:\n",
    "            pos = word.find(number[0])\n",
    "            numb_to_word = num2words(int(number), lang=\"ar\")\n",
    "            arabic_to_backwalter = buckwalter.transliterate(numb_to_word)\n",
    "            list_line[count] = (\n",
    "                word[:pos] + arabic_to_backwalter + word[pos + len(number) :]\n",
    "            )\n",
    "        count = count + 1\n",
    "    new_line = \" \".join(list_line)\n",
    "\n",
    "    return new_line\n"
   ]
  }
 ],
 "metadata": {
  "language_info": {
   "name": "python"
  },
  "orig_nbformat": 4
 },
 "nbformat": 4,
 "nbformat_minor": 2
}
